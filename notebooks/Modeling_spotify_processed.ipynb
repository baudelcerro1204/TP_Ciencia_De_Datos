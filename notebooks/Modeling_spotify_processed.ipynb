{
 "cells": [
  {
   "cell_type": "markdown",
   "id": "5e7ac683",
   "metadata": {},
   "source": [
    "# Modelado - Spotify Processed Dataset\n",
    "Este notebook entrena y evalúa modelos de regresión para predecir `popularity` usando las versiones Z-score de las features.\n",
    "Se comparan Random Forest y XGBoost."
   ]
  },
  {
   "cell_type": "code",
   "execution_count": 1,
   "id": "bb4b13e5",
   "metadata": {},
   "outputs": [],
   "source": [
    "import pandas as pd\n",
    "import numpy as np\n",
    "from sklearn.model_selection import train_test_split\n",
    "from sklearn.ensemble import RandomForestRegressor\n",
    "from xgboost import XGBRegressor\n",
    "from sklearn.metrics import mean_squared_error, r2_score\n",
    "import matplotlib.pyplot as plt\n"
   ]
  },
  {
   "cell_type": "code",
   "execution_count": 2,
   "id": "e3c6d133",
   "metadata": {},
   "outputs": [
    {
     "data": {
      "text/html": [
       "<div>\n",
       "<style scoped>\n",
       "    .dataframe tbody tr th:only-of-type {\n",
       "        vertical-align: middle;\n",
       "    }\n",
       "\n",
       "    .dataframe tbody tr th {\n",
       "        vertical-align: top;\n",
       "    }\n",
       "\n",
       "    .dataframe thead th {\n",
       "        text-align: right;\n",
       "    }\n",
       "</style>\n",
       "<table border=\"1\" class=\"dataframe\">\n",
       "  <thead>\n",
       "    <tr style=\"text-align: right;\">\n",
       "      <th></th>\n",
       "      <th>danceability</th>\n",
       "      <th>energy</th>\n",
       "      <th>valence</th>\n",
       "      <th>tempo</th>\n",
       "      <th>liveness</th>\n",
       "      <th>speechiness</th>\n",
       "      <th>acousticness</th>\n",
       "      <th>instrumentalness</th>\n",
       "      <th>popularity</th>\n",
       "      <th>danceability_minmax</th>\n",
       "      <th>...</th>\n",
       "      <th>liveness_minmax</th>\n",
       "      <th>liveness_std</th>\n",
       "      <th>speechiness_minmax</th>\n",
       "      <th>speechiness_std</th>\n",
       "      <th>acousticness_minmax</th>\n",
       "      <th>acousticness_std</th>\n",
       "      <th>instrumentalness_minmax</th>\n",
       "      <th>instrumentalness_std</th>\n",
       "      <th>popularity_minmax</th>\n",
       "      <th>popularity_std</th>\n",
       "    </tr>\n",
       "  </thead>\n",
       "  <tbody>\n",
       "    <tr>\n",
       "      <th>0</th>\n",
       "      <td>71.0</td>\n",
       "      <td>83.0</td>\n",
       "      <td>87.0</td>\n",
       "      <td>105.0</td>\n",
       "      <td>16.0</td>\n",
       "      <td>4.0</td>\n",
       "      <td>11.0</td>\n",
       "      <td>0.0</td>\n",
       "      <td>40.0</td>\n",
       "      <td>0.706667</td>\n",
       "      <td>...</td>\n",
       "      <td>0.146341</td>\n",
       "      <td>-0.225023</td>\n",
       "      <td>0.020408</td>\n",
       "      <td>-0.645270</td>\n",
       "      <td>0.112245</td>\n",
       "      <td>-0.502676</td>\n",
       "      <td>0.000000</td>\n",
       "      <td>-0.348010</td>\n",
       "      <td>0.5000</td>\n",
       "      <td>0.434210</td>\n",
       "    </tr>\n",
       "    <tr>\n",
       "      <th>1</th>\n",
       "      <td>70.0</td>\n",
       "      <td>85.0</td>\n",
       "      <td>87.0</td>\n",
       "      <td>117.0</td>\n",
       "      <td>32.0</td>\n",
       "      <td>4.0</td>\n",
       "      <td>0.0</td>\n",
       "      <td>0.0</td>\n",
       "      <td>42.0</td>\n",
       "      <td>0.693333</td>\n",
       "      <td>...</td>\n",
       "      <td>0.341463</td>\n",
       "      <td>0.777296</td>\n",
       "      <td>0.020408</td>\n",
       "      <td>-0.645270</td>\n",
       "      <td>0.000000</td>\n",
       "      <td>-0.877792</td>\n",
       "      <td>0.000000</td>\n",
       "      <td>-0.348010</td>\n",
       "      <td>0.5250</td>\n",
       "      <td>0.545808</td>\n",
       "    </tr>\n",
       "    <tr>\n",
       "      <th>2</th>\n",
       "      <td>71.0</td>\n",
       "      <td>89.0</td>\n",
       "      <td>63.0</td>\n",
       "      <td>121.0</td>\n",
       "      <td>64.0</td>\n",
       "      <td>8.0</td>\n",
       "      <td>0.0</td>\n",
       "      <td>20.0</td>\n",
       "      <td>29.0</td>\n",
       "      <td>0.706667</td>\n",
       "      <td>...</td>\n",
       "      <td>0.731707</td>\n",
       "      <td>2.781935</td>\n",
       "      <td>0.102041</td>\n",
       "      <td>-0.301955</td>\n",
       "      <td>0.000000</td>\n",
       "      <td>-0.877792</td>\n",
       "      <td>0.217391</td>\n",
       "      <td>0.628897</td>\n",
       "      <td>0.3625</td>\n",
       "      <td>-0.179581</td>\n",
       "    </tr>\n",
       "    <tr>\n",
       "      <th>3</th>\n",
       "      <td>78.0</td>\n",
       "      <td>84.0</td>\n",
       "      <td>97.0</td>\n",
       "      <td>122.0</td>\n",
       "      <td>12.0</td>\n",
       "      <td>4.0</td>\n",
       "      <td>12.0</td>\n",
       "      <td>0.0</td>\n",
       "      <td>24.0</td>\n",
       "      <td>0.800000</td>\n",
       "      <td>...</td>\n",
       "      <td>0.097561</td>\n",
       "      <td>-0.475603</td>\n",
       "      <td>0.020408</td>\n",
       "      <td>-0.645270</td>\n",
       "      <td>0.122449</td>\n",
       "      <td>-0.468575</td>\n",
       "      <td>0.000000</td>\n",
       "      <td>-0.348010</td>\n",
       "      <td>0.3000</td>\n",
       "      <td>-0.458576</td>\n",
       "    </tr>\n",
       "    <tr>\n",
       "      <th>4</th>\n",
       "      <td>77.0</td>\n",
       "      <td>71.0</td>\n",
       "      <td>70.0</td>\n",
       "      <td>123.0</td>\n",
       "      <td>10.0</td>\n",
       "      <td>7.0</td>\n",
       "      <td>4.0</td>\n",
       "      <td>1.0</td>\n",
       "      <td>30.0</td>\n",
       "      <td>0.786667</td>\n",
       "      <td>...</td>\n",
       "      <td>0.073171</td>\n",
       "      <td>-0.600892</td>\n",
       "      <td>0.081633</td>\n",
       "      <td>-0.387784</td>\n",
       "      <td>0.040816</td>\n",
       "      <td>-0.741386</td>\n",
       "      <td>0.010870</td>\n",
       "      <td>-0.299164</td>\n",
       "      <td>0.3750</td>\n",
       "      <td>-0.123781</td>\n",
       "    </tr>\n",
       "  </tbody>\n",
       "</table>\n",
       "<p>5 rows × 27 columns</p>\n",
       "</div>"
      ],
      "text/plain": [
       "   danceability  energy  valence  tempo  liveness  speechiness  acousticness  \\\n",
       "0          71.0    83.0     87.0  105.0      16.0          4.0          11.0   \n",
       "1          70.0    85.0     87.0  117.0      32.0          4.0           0.0   \n",
       "2          71.0    89.0     63.0  121.0      64.0          8.0           0.0   \n",
       "3          78.0    84.0     97.0  122.0      12.0          4.0          12.0   \n",
       "4          77.0    71.0     70.0  123.0      10.0          7.0           4.0   \n",
       "\n",
       "   instrumentalness  popularity  danceability_minmax  ...  liveness_minmax  \\\n",
       "0               0.0        40.0             0.706667  ...         0.146341   \n",
       "1               0.0        42.0             0.693333  ...         0.341463   \n",
       "2              20.0        29.0             0.706667  ...         0.731707   \n",
       "3               0.0        24.0             0.800000  ...         0.097561   \n",
       "4               1.0        30.0             0.786667  ...         0.073171   \n",
       "\n",
       "   liveness_std  speechiness_minmax  speechiness_std  acousticness_minmax  \\\n",
       "0     -0.225023            0.020408        -0.645270             0.112245   \n",
       "1      0.777296            0.020408        -0.645270             0.000000   \n",
       "2      2.781935            0.102041        -0.301955             0.000000   \n",
       "3     -0.475603            0.020408        -0.645270             0.122449   \n",
       "4     -0.600892            0.081633        -0.387784             0.040816   \n",
       "\n",
       "   acousticness_std  instrumentalness_minmax  instrumentalness_std  \\\n",
       "0         -0.502676                 0.000000             -0.348010   \n",
       "1         -0.877792                 0.000000             -0.348010   \n",
       "2         -0.877792                 0.217391              0.628897   \n",
       "3         -0.468575                 0.000000             -0.348010   \n",
       "4         -0.741386                 0.010870             -0.299164   \n",
       "\n",
       "   popularity_minmax  popularity_std  \n",
       "0             0.5000        0.434210  \n",
       "1             0.5250        0.545808  \n",
       "2             0.3625       -0.179581  \n",
       "3             0.3000       -0.458576  \n",
       "4             0.3750       -0.123781  \n",
       "\n",
       "[5 rows x 27 columns]"
      ]
     },
     "execution_count": 2,
     "metadata": {},
     "output_type": "execute_result"
    }
   ],
   "source": [
    "# Cargar dataset procesado\n",
    "df = pd.read_csv('../data/processed/spotify_processed.csv')\n",
    "df.head()"
   ]
  },
  {
   "cell_type": "code",
   "execution_count": 3,
   "id": "07131733",
   "metadata": {},
   "outputs": [
    {
     "name": "stdout",
     "output_type": "stream",
     "text": [
      "Número de muestras: 551443\n",
      "Número de features: 8\n"
     ]
    }
   ],
   "source": [
    "# Definir variables predictoras (Z-score) y target\n",
    "std_cols = [c for c in df.columns \n",
    "            if c.endswith('_std') and c != 'popularity_std']\n",
    "X = df[std_cols]\n",
    "y = df['popularity']\n",
    "print('Número de muestras:', X.shape[0])\n",
    "print('Número de features:', X.shape[1])"
   ]
  },
  {
   "cell_type": "code",
   "execution_count": 4,
   "id": "457c70cc",
   "metadata": {},
   "outputs": [],
   "source": [
    "# División entrenamiento/prueba\n",
    "X_train, X_test, y_train, y_test = train_test_split(\n",
    "    X, y, test_size=0.2, random_state=42\n",
    ")"
   ]
  },
  {
   "cell_type": "code",
   "execution_count": 5,
   "id": "0381e307",
   "metadata": {},
   "outputs": [
    {
     "name": "stdout",
     "output_type": "stream",
     "text": [
      "R² CV por pliegue: [0.495 0.488 0.494 0.488 0.492]\n",
      "R² CV promedio:   0.491\n",
      "R² CV std:        0.003\n",
      "\n",
      "Random Forest (Test) -> MSE: 165.16, R²: 0.49\n"
     ]
    }
   ],
   "source": [
    "from sklearn.model_selection import KFold, cross_val_score\n",
    "from sklearn.ensemble import RandomForestRegressor\n",
    "from sklearn.metrics import mean_squared_error, r2_score\n",
    "\n",
    "# Definir modelo\n",
    "rf = RandomForestRegressor(n_estimators=100, random_state=42)\n",
    "\n",
    "# --- Validación cruzada ---\n",
    "kf = KFold(n_splits=5, shuffle=True, random_state=42)\n",
    "cv_scores = cross_val_score(rf, X, y, cv=kf, scoring='r2')\n",
    "print(\"R² CV por pliegue:\", np.round(cv_scores, 3))\n",
    "print(\"R² CV promedio:  \", np.round(cv_scores.mean(), 3))\n",
    "print(\"R² CV std:       \", np.round(cv_scores.std(), 3))\n",
    "\n",
    "# --- Entrenamiento final y evaluación en Test ---\n",
    "rf.fit(X_train, y_train)\n",
    "y_pred_rf = rf.predict(X_test)\n",
    "\n",
    "mse_rf = mean_squared_error(y_test, y_pred_rf)\n",
    "r2_rf  = r2_score(y_test, y_pred_rf)\n",
    "print(f\"\\nRandom Forest (Test) -> MSE: {mse_rf:.2f}, R²: {r2_rf:.2f}\")"
   ]
  },
  {
   "cell_type": "code",
   "execution_count": 6,
   "id": "a1b0245f",
   "metadata": {},
   "outputs": [
    {
     "name": "stdout",
     "output_type": "stream",
     "text": [
      "XGBoost -> MSE: 271.98, R2: 0.17\n"
     ]
    }
   ],
   "source": [
    "# Entrenar y evaluar XGBoost Regressor\n",
    "xgb = XGBRegressor(objective='reg:squarederror', n_estimators=100, random_state=42)\n",
    "xgb.fit(X_train, y_train)\n",
    "y_pred_xgb = xgb.predict(X_test)\n",
    "mse_xgb = mean_squared_error(y_test, y_pred_xgb)\n",
    "r2_xgb = r2_score(y_test, y_pred_xgb)\n",
    "print(f\"XGBoost -> MSE: {mse_xgb:.2f}, R2: {r2_xgb:.2f}\")"
   ]
  },
  {
   "cell_type": "code",
   "execution_count": 7,
   "id": "4f7b211e",
   "metadata": {},
   "outputs": [
    {
     "data": {
      "image/png": "[encoded data removed]",
      "text/plain": [
       "<Figure size 800x600 with 1 Axes>"
      ]
     },
     "metadata": {},
     "output_type": "display_data"
    }
   ],
   "source": [
    "# Importancia de features del modelo XGBoost\n",
    "importances = xgb.feature_importances_\n",
    "indices = np.argsort(importances)[::-1]\n",
    "plt.figure(figsize=(8,6))\n",
    "plt.barh([std_cols[i] for i in indices], importances[indices])\n",
    "plt.title('Importancia de Features (XGBoost)')\n",
    "plt.xlabel('Importancia')\n",
    "plt.show()"
   ]
  }
 ],
 "metadata": {
  "kernelspec": {
   "display_name": ".venv",
   "language": "python",
   "name": "python3"
  },
  "language_info": {
   "codemirror_mode": {
    "name": "ipython",
    "version": 3
   },
   "file_extension": ".py",
   "mimetype": "text/x-python",
   "name": "python",
   "nbconvert_exporter": "python",
   "pygments_lexer": "ipython3",
   "version": "3.11.9"
  }
 },
 "nbformat": 4,
 "nbformat_minor": 5
}
