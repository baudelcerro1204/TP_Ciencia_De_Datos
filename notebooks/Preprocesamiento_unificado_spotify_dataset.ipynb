{
 "cells": [
  {
   "cell_type": "markdown",
   "id": "506c9400",
   "metadata": {},
   "source": [
    "# Preprocesamiento Unificado de spotify_dataset.csv\n",
    "Este notebook limpia, imputa valores faltantes y genera **tres** versiones de cada feature:\n",
    "- Escala original (imputada)\n",
    "- Min-Max (0–1)\n",
    "- Z-score\n",
    "\n",
    "Luego guarda todo en un único archivo `spotify_processed.csv` con columnas adicionales para cada versión."
   ]
  },
  {
   "cell_type": "code",
   "execution_count": 1,
   "id": "36f2c091",
   "metadata": {},
   "outputs": [],
   "source": [
    "import pandas as pd\n",
    "import numpy as np\n",
    "from sklearn.impute import SimpleImputer\n",
    "from sklearn.preprocessing import MinMaxScaler, StandardScaler\n",
    "import os"
   ]
  },
  {
   "cell_type": "code",
   "execution_count": 2,
   "id": "fa8cc833",
   "metadata": {},
   "outputs": [],
   "source": [
    "# Cargar dataset crudo\n",
    "df = pd.read_csv('../data/raw/spotify_dataset.csv')"
   ]
  },
  {
   "cell_type": "code",
   "execution_count": 3,
   "id": "cd61b4c7",
   "metadata": {},
   "outputs": [],
   "source": [
    "# Renombrar columnas y convertir tipos numéricos\n",
    "df.rename(columns={\n",
    "    'Danceability':'danceability', 'Energy':'energy', 'Positiveness':'valence',\n",
    "    'Tempo':'tempo', 'Loudness (db)':'loudness', 'Liveness':'liveness',\n",
    "    'Speechiness':'speechiness', 'Acousticness':'acousticness',\n",
    "    'Instrumentalness':'instrumentalness', 'Length':'duration',\n",
    "    'Popularity':'popularity'\n",
    "}, inplace=True)\n",
    "num_cols = ['danceability','energy','valence','tempo','loudness','liveness',\n",
    "            'speechiness','acousticness','instrumentalness','duration','popularity']\n",
    "for col in num_cols:\n",
    "    df[col] = pd.to_numeric(df[col], errors='coerce')"
   ]
  },
  {
   "cell_type": "code",
   "execution_count": 5,
   "id": "b7a034cd",
   "metadata": {},
   "outputs": [],
   "source": [
    "# Imputar valores faltantes (mediana)\n",
    "valid_num_cols = [col for col in num_cols if not df[col].isna().all()]\n",
    "imputer = SimpleImputer(strategy='median')\n",
    "df_imputed = pd.DataFrame(imputer.fit_transform(df[valid_num_cols]), columns=valid_num_cols)"
   ]
  },
  {
   "cell_type": "code",
   "execution_count": 6,
   "id": "ad0f4cb9",
   "metadata": {},
   "outputs": [],
   "source": [
    "# Recortar outliers (percentiles 1–99)\n",
    "lower = df_imputed.quantile(0.01)\n",
    "upper = df_imputed.quantile(0.99)\n",
    "df_clipped = df_imputed.clip(lower=lower, upper=upper, axis=1)"
   ]
  },
  {
   "cell_type": "code",
   "execution_count": 9,
   "id": "d5fda2fc",
   "metadata": {},
   "outputs": [
    {
     "name": "stdout",
     "output_type": "stream",
     "text": [
      "Archivo guardado: data/processed/spotify_processed.csv\n"
     ]
    }
   ],
   "source": [
    "# Generar versiones escaladas\n",
    "mm_scaler = MinMaxScaler()\n",
    "df_minmax = pd.DataFrame(mm_scaler.fit_transform(df_clipped), columns=valid_num_cols)\n",
    "\n",
    "std_scaler = StandardScaler()\n",
    "df_standard = pd.DataFrame(std_scaler.fit_transform(df_clipped), columns=valid_num_cols)\n",
    "\n",
    "# Preparar df final\n",
    "df_final = df_imputed.copy()\n",
    "for col in num_cols:\n",
    "    if col in df_minmax.columns:\n",
    "        df_final[f'{col}_minmax'] = df_minmax[col]\n",
    "    if col in df_standard.columns:\n",
    "        df_final[f'{col}_std'] = df_standard[col]\n",
    "\n",
    "# Guardar unico archivo\n",
    "os.makedirs('../data/processed', exist_ok=True)\n",
    "df_final.to_csv('../data/processed/spotify_processed.csv', index=False)\n",
    "print('Archivo guardado: data/processed/spotify_processed.csv')"
   ]
  }
 ],
 "metadata": {
  "kernelspec": {
   "display_name": ".venv",
   "language": "python",
   "name": "python3"
  },
  "language_info": {
   "codemirror_mode": {
    "name": "ipython",
    "version": 3
   },
   "file_extension": ".py",
   "mimetype": "text/x-python",
   "name": "python",
   "nbconvert_exporter": "python",
   "pygments_lexer": "ipython3",
   "version": "3.11.9"
  }
 },
 "nbformat": 4,
 "nbformat_minor": 5
}
