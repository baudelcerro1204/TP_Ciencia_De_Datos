{
 "cells": [
  {
   "cell_type": "code",
   "execution_count": 1,
   "metadata": {},
   "outputs": [
    {
     "name": "stdout",
     "output_type": "stream",
     "text": [
      "Columnas cargadas: ['Artist(s)', 'song', 'text', 'Length', 'emotion', 'Genre', 'Album', 'Release Date', 'Key', 'Tempo', 'Loudness (db)', 'Time signature', 'Explicit', 'Popularity', 'Energy', 'Danceability', 'Positiveness', 'Speechiness', 'Liveness', 'Acousticness', 'Instrumentalness', 'Good for Party', 'Good for Work/Study', 'Good for Relaxation/Meditation', 'Good for Exercise', 'Good for Running', 'Good for Yoga/Stretching', 'Good for Driving', 'Good for Social Gatherings', 'Good for Morning Routine', 'Similar Songs']\n"
     ]
    }
   ],
   "source": [
    "import pandas as pd\n",
    "\n",
    "# 1. Cargar el dataset desde JSON\n",
    "df = pd.read_json('../data/raw/900k Definitive Spotify Dataset.json', lines=True)\n",
    "print(\"Columnas cargadas:\", df.columns.tolist())"
   ]
  },
  {
   "cell_type": "code",
   "execution_count": 2,
   "metadata": {},
   "outputs": [],
   "source": [
    "# 2. Seleccionar y renombrar columnas necesarias\n",
    "model_cols = [\n",
    "    'Artist(s)', 'song', 'Genre',\n",
    "    'Popularity', 'Danceability', 'Energy', 'Positiveness', 'Tempo'\n",
    "]\n",
    "df = df[model_cols].rename(columns={\n",
    "    'Artist(s)'     : 'artist',\n",
    "    'song'          : 'song',\n",
    "    'Genre'         : 'genre',\n",
    "    'Popularity'    : 'popularity',\n",
    "    'Danceability'  : 'danceability',\n",
    "    'Energy'        : 'energy',\n",
    "    'Positiveness'  : 'valence',\n",
    "    'Tempo'         : 'tempo'\n",
    "})"
   ]
  },
  {
   "cell_type": "code",
   "execution_count": 3,
   "metadata": {},
   "outputs": [],
   "source": [
    "# 3. Crear la columna popularity_class\n",
    "def popularity_label(popularity):\n",
    "    if popularity >= 66:\n",
    "        return 'alta'\n",
    "    elif popularity >= 33:\n",
    "        return 'media'\n",
    "    else:\n",
    "        return 'baja'\n",
    "\n",
    "df['popularity_class'] = df['popularity'].apply(popularity_label)"
   ]
  },
  {
   "cell_type": "code",
   "execution_count": 4,
   "metadata": {},
   "outputs": [
    {
     "name": "stdout",
     "output_type": "stream",
     "text": [
      "popularity_class\n",
      "baja     0.599488\n",
      "media    0.356328\n",
      "alta     0.044184\n",
      "Name: proportion, dtype: float64\n"
     ]
    }
   ],
   "source": [
    "\n",
    "# 4. Ver distribución de clases\n",
    "print(df['popularity_class'].value_counts(normalize=True))"
   ]
  },
  {
   "cell_type": "code",
   "execution_count": 5,
   "metadata": {},
   "outputs": [],
   "source": [
    "\n",
    "# 5. Reordenar columnas para claridad\n",
    "df_final = df[[\n",
    "    'artist', 'song', 'genre',\n",
    "    'danceability', 'energy', 'valence', 'tempo',\n",
    "    'popularity', 'popularity_class'\n",
    "]]"
   ]
  },
  {
   "cell_type": "code",
   "execution_count": 6,
   "metadata": {},
   "outputs": [
    {
     "data": {
      "text/html": [
       "<div>\n",
       "<style scoped>\n",
       "    .dataframe tbody tr th:only-of-type {\n",
       "        vertical-align: middle;\n",
       "    }\n",
       "\n",
       "    .dataframe tbody tr th {\n",
       "        vertical-align: top;\n",
       "    }\n",
       "\n",
       "    .dataframe thead th {\n",
       "        text-align: right;\n",
       "    }\n",
       "</style>\n",
       "<table border=\"1\" class=\"dataframe\">\n",
       "  <thead>\n",
       "    <tr style=\"text-align: right;\">\n",
       "      <th></th>\n",
       "      <th>artist</th>\n",
       "      <th>song</th>\n",
       "      <th>genre</th>\n",
       "      <th>danceability</th>\n",
       "      <th>energy</th>\n",
       "      <th>valence</th>\n",
       "      <th>tempo</th>\n",
       "      <th>popularity</th>\n",
       "      <th>popularity_class</th>\n",
       "    </tr>\n",
       "  </thead>\n",
       "  <tbody>\n",
       "    <tr>\n",
       "      <th>0</th>\n",
       "      <td>!!!</td>\n",
       "      <td>Even When the Waters Cold</td>\n",
       "      <td>hip hop</td>\n",
       "      <td>71</td>\n",
       "      <td>83</td>\n",
       "      <td>87</td>\n",
       "      <td>0.437870</td>\n",
       "      <td>40</td>\n",
       "      <td>media</td>\n",
       "    </tr>\n",
       "    <tr>\n",
       "      <th>1</th>\n",
       "      <td>!!!</td>\n",
       "      <td>One Girl / One Boy</td>\n",
       "      <td>hip hop</td>\n",
       "      <td>70</td>\n",
       "      <td>85</td>\n",
       "      <td>87</td>\n",
       "      <td>0.508876</td>\n",
       "      <td>42</td>\n",
       "      <td>media</td>\n",
       "    </tr>\n",
       "    <tr>\n",
       "      <th>2</th>\n",
       "      <td>!!!</td>\n",
       "      <td>Pardon My Freedom</td>\n",
       "      <td>hip hop</td>\n",
       "      <td>71</td>\n",
       "      <td>89</td>\n",
       "      <td>63</td>\n",
       "      <td>0.532544</td>\n",
       "      <td>29</td>\n",
       "      <td>baja</td>\n",
       "    </tr>\n",
       "    <tr>\n",
       "      <th>3</th>\n",
       "      <td>!!!</td>\n",
       "      <td>Ooo</td>\n",
       "      <td>hip hop</td>\n",
       "      <td>78</td>\n",
       "      <td>84</td>\n",
       "      <td>97</td>\n",
       "      <td>0.538462</td>\n",
       "      <td>24</td>\n",
       "      <td>baja</td>\n",
       "    </tr>\n",
       "    <tr>\n",
       "      <th>4</th>\n",
       "      <td>!!!</td>\n",
       "      <td>Freedom 15</td>\n",
       "      <td>hip hop</td>\n",
       "      <td>77</td>\n",
       "      <td>71</td>\n",
       "      <td>70</td>\n",
       "      <td>0.544379</td>\n",
       "      <td>30</td>\n",
       "      <td>baja</td>\n",
       "    </tr>\n",
       "  </tbody>\n",
       "</table>\n",
       "</div>"
      ],
      "text/plain": [
       "  artist                       song    genre  danceability  energy  valence  \\\n",
       "0    !!!  Even When the Waters Cold  hip hop            71      83       87   \n",
       "1    !!!         One Girl / One Boy  hip hop            70      85       87   \n",
       "2    !!!          Pardon My Freedom  hip hop            71      89       63   \n",
       "3    !!!                        Ooo  hip hop            78      84       97   \n",
       "4    !!!                 Freedom 15  hip hop            77      71       70   \n",
       "\n",
       "      tempo  popularity popularity_class  \n",
       "0  0.437870          40            media  \n",
       "1  0.508876          42            media  \n",
       "2  0.532544          29             baja  \n",
       "3  0.538462          24             baja  \n",
       "4  0.544379          30             baja  "
      ]
     },
     "execution_count": 6,
     "metadata": {},
     "output_type": "execute_result"
    }
   ],
   "source": [
    "# 6. Guardar el dataset final listo para clasificación\n",
    "df_final.to_csv('../data/processed/dataset_clasificacion.csv', index=False)\n",
    "\n",
    "# 7. Mostrar muestra del dataset\n",
    "df_final.head()"
   ]
  }
 ],
 "metadata": {
  "kernelspec": {
   "display_name": ".venv",
   "language": "python",
   "name": "python3"
  },
  "language_info": {
   "codemirror_mode": {
    "name": "ipython",
    "version": 3
   },
   "file_extension": ".py",
   "mimetype": "text/x-python",
   "name": "python",
   "nbconvert_exporter": "python",
   "pygments_lexer": "ipython3",
   "version": "3.11.11"
  }
 },
 "nbformat": 4,
 "nbformat_minor": 2
}
