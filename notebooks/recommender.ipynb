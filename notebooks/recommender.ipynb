{
 "cells": [
  {
   "cell_type": "markdown",
   "id": "94752ba4",
   "metadata": {},
   "source": [
    "# 🎬 Flujo de trabajo para probar SpotifyRecommender"
   ]
  },
  {
   "cell_type": "code",
   "execution_count": 2,
   "id": "7dc6d5c2",
   "metadata": {},
   "outputs": [
    {
     "name": "stdout",
     "output_type": "stream",
     "text": [
      "c:\\Users\\user\\Downloads\\Ciencia de Datos\\SongReccomender\n"
     ]
    }
   ],
   "source": [
    "# 0) Asegúrate de partir del root del proyecto o añade src al path\n",
    "import sys\n",
    "from pathlib import Path\n",
    "\n",
    "# Si estás en notebooks/, sube un nivel:\n",
    "%cd ..\n",
    "\n",
    "# Añade la carpeta src a Python path\n",
    "sys.path.insert(0, str(Path('src').resolve()))\n"
   ]
  },
  {
   "cell_type": "code",
   "execution_count": 3,
   "id": "487dd2b6",
   "metadata": {},
   "outputs": [
    {
     "name": "stdout",
     "output_type": "stream",
     "text": [
      "Filas × Columnas: (14, 12)\n",
      "\n",
      "Géneros disponibles: ['Classical' 'Indie' 'K-pop' 'Pop' 'Reggaeton' 'Rock' 'dance' 'k-pop'\n",
      " 'pop']\n"
     ]
    },
    {
     "data": {
      "text/html": [
       "<div>\n",
       "<style scoped>\n",
       "    .dataframe tbody tr th:only-of-type {\n",
       "        vertical-align: middle;\n",
       "    }\n",
       "\n",
       "    .dataframe tbody tr th {\n",
       "        vertical-align: top;\n",
       "    }\n",
       "\n",
       "    .dataframe thead th {\n",
       "        text-align: right;\n",
       "    }\n",
       "</style>\n",
       "<table border=\"1\" class=\"dataframe\">\n",
       "  <thead>\n",
       "    <tr style=\"text-align: right;\">\n",
       "      <th></th>\n",
       "      <th>artist_name</th>\n",
       "      <th>album_name</th>\n",
       "      <th>genre</th>\n",
       "      <th>total_streams</th>\n",
       "      <th>avg_duration_min</th>\n",
       "      <th>avg_danceability</th>\n",
       "      <th>avg_energy</th>\n",
       "      <th>avg_valence</th>\n",
       "      <th>avg_daily_streams</th>\n",
       "      <th>best_rank</th>\n",
       "      <th>max_weeks_on_chart</th>\n",
       "      <th>Country</th>\n",
       "    </tr>\n",
       "  </thead>\n",
       "  <tbody>\n",
       "    <tr>\n",
       "      <th>0</th>\n",
       "      <td>Taylor Swift</td>\n",
       "      <td>1989 (Taylor's Version)</td>\n",
       "      <td>K-pop</td>\n",
       "      <td>3695.53</td>\n",
       "      <td>4.28</td>\n",
       "      <td>0.585298</td>\n",
       "      <td>0.623716</td>\n",
       "      <td>0.427222</td>\n",
       "      <td>1.198106e+06</td>\n",
       "      <td>1.0</td>\n",
       "      <td>150.0</td>\n",
       "      <td>Germany</td>\n",
       "    </tr>\n",
       "    <tr>\n",
       "      <th>1</th>\n",
       "      <td>The Weeknd</td>\n",
       "      <td>After Hours</td>\n",
       "      <td>pop</td>\n",
       "      <td>2828.16</td>\n",
       "      <td>3.90</td>\n",
       "      <td>0.608774</td>\n",
       "      <td>0.735933</td>\n",
       "      <td>0.483503</td>\n",
       "      <td>7.269688e+05</td>\n",
       "      <td>1.0</td>\n",
       "      <td>149.0</td>\n",
       "      <td>Brazil</td>\n",
       "    </tr>\n",
       "    <tr>\n",
       "      <th>2</th>\n",
       "      <td>Post Malone</td>\n",
       "      <td>Austin</td>\n",
       "      <td>Reggaeton</td>\n",
       "      <td>1425.46</td>\n",
       "      <td>4.03</td>\n",
       "      <td>0.693911</td>\n",
       "      <td>0.680469</td>\n",
       "      <td>0.432090</td>\n",
       "      <td>2.957205e+06</td>\n",
       "      <td>1.0</td>\n",
       "      <td>199.0</td>\n",
       "      <td>United States</td>\n",
       "    </tr>\n",
       "  </tbody>\n",
       "</table>\n",
       "</div>"
      ],
      "text/plain": [
       "    artist_name               album_name      genre  total_streams  \\\n",
       "0  Taylor Swift  1989 (Taylor's Version)      K-pop        3695.53   \n",
       "1    The Weeknd              After Hours        pop        2828.16   \n",
       "2   Post Malone                   Austin  Reggaeton        1425.46   \n",
       "\n",
       "   avg_duration_min  avg_danceability  avg_energy  avg_valence  \\\n",
       "0              4.28          0.585298    0.623716     0.427222   \n",
       "1              3.90          0.608774    0.735933     0.483503   \n",
       "2              4.03          0.693911    0.680469     0.432090   \n",
       "\n",
       "   avg_daily_streams  best_rank  max_weeks_on_chart        Country  \n",
       "0       1.198106e+06        1.0               150.0        Germany  \n",
       "1       7.269688e+05        1.0               149.0         Brazil  \n",
       "2       2.957205e+06        1.0               199.0  United States  "
      ]
     },
     "execution_count": 3,
     "metadata": {},
     "output_type": "execute_result"
    }
   ],
   "source": [
    "# 1) Importar y mostrar versiones\n",
    "import pandas as pd\n",
    "import sklearn\n",
    "import spotipy\n",
    "from recommender import SpotifyRecommender\n",
    "\n",
    "# 2) Cargar y explorar rápidamente el parquet enriquecido\n",
    "df = pd.read_parquet('data/processed/spotify_enriched.parquet', engine='pyarrow')\n",
    "print(\"Filas × Columnas:\", df.shape)\n",
    "print(\"\\nGéneros disponibles:\", df['genre'].sort_values().unique())\n",
    "df.head(3)\n"
   ]
  },
  {
   "cell_type": "code",
   "execution_count": 4,
   "id": "7a0a7885",
   "metadata": {},
   "outputs": [
    {
     "name": "stdout",
     "output_type": "stream",
     "text": [
      "Modelo entrenado con features: ['avg_danceability', 'avg_energy', 'avg_valence', 'avg_daily_streams', 'total_streams']\n"
     ]
    }
   ],
   "source": [
    "# 3) Instanciar el recomendador y entrenar\n",
    "rec = SpotifyRecommender('data/processed/spotify_enriched.parquet')\n",
    "rec.train_model(n_neighbors=5)\n",
    "print(\"Modelo entrenado con features:\", rec.features)\n",
    "\n"
   ]
  },
  {
   "cell_type": "code",
   "execution_count": 5,
   "id": "fe3a22ec",
   "metadata": {},
   "outputs": [
    {
     "name": "stdout",
     "output_type": "stream",
     "text": [
      "\n",
      "Recomendaciones para «After Hours» de The Weeknd:\n"
     ]
    },
    {
     "name": "stderr",
     "output_type": "stream",
     "text": [
      "c:\\Users\\user\\Downloads\\Ciencia de Datos\\SongReccomender\\.venv\\Lib\\site-packages\\sklearn\\utils\\validation.py:2739: UserWarning: X does not have valid feature names, but StandardScaler was fitted with feature names\n",
      "  warnings.warn(\n"
     ]
    },
    {
     "data": {
      "text/html": [
       "<div>\n",
       "<style scoped>\n",
       "    .dataframe tbody tr th:only-of-type {\n",
       "        vertical-align: middle;\n",
       "    }\n",
       "\n",
       "    .dataframe tbody tr th {\n",
       "        vertical-align: top;\n",
       "    }\n",
       "\n",
       "    .dataframe thead th {\n",
       "        text-align: right;\n",
       "    }\n",
       "</style>\n",
       "<table border=\"1\" class=\"dataframe\">\n",
       "  <thead>\n",
       "    <tr style=\"text-align: right;\">\n",
       "      <th></th>\n",
       "      <th>artist_name</th>\n",
       "      <th>album_name</th>\n",
       "      <th>genre_original</th>\n",
       "      <th>avg_danceability</th>\n",
       "      <th>avg_energy</th>\n",
       "      <th>avg_valence</th>\n",
       "      <th>avg_daily_streams</th>\n",
       "      <th>total_streams</th>\n",
       "    </tr>\n",
       "  </thead>\n",
       "  <tbody>\n",
       "    <tr>\n",
       "      <th>13</th>\n",
       "      <td>BTS</td>\n",
       "      <td>Proof</td>\n",
       "      <td>k-pop</td>\n",
       "      <td>0.681488</td>\n",
       "      <td>0.679631</td>\n",
       "      <td>0.611396</td>\n",
       "      <td>5.817242e+05</td>\n",
       "      <td>3052.97</td>\n",
       "    </tr>\n",
       "    <tr>\n",
       "      <th>9</th>\n",
       "      <td>BLACKPINK</td>\n",
       "      <td>BORN PINK</td>\n",
       "      <td>pop</td>\n",
       "      <td>0.741923</td>\n",
       "      <td>0.723691</td>\n",
       "      <td>0.405583</td>\n",
       "      <td>6.813381e+05</td>\n",
       "      <td>3624.36</td>\n",
       "    </tr>\n",
       "    <tr>\n",
       "      <th>8</th>\n",
       "      <td>Dua Lipa</td>\n",
       "      <td>Future Nostalgia</td>\n",
       "      <td>dance</td>\n",
       "      <td>0.743601</td>\n",
       "      <td>0.748843</td>\n",
       "      <td>0.653112</td>\n",
       "      <td>1.040174e+06</td>\n",
       "      <td>4310.86</td>\n",
       "    </tr>\n",
       "    <tr>\n",
       "      <th>0</th>\n",
       "      <td>Taylor Swift</td>\n",
       "      <td>1989 (Taylor's Version)</td>\n",
       "      <td>K-pop</td>\n",
       "      <td>0.585298</td>\n",
       "      <td>0.623716</td>\n",
       "      <td>0.427222</td>\n",
       "      <td>1.198106e+06</td>\n",
       "      <td>3695.53</td>\n",
       "    </tr>\n",
       "    <tr>\n",
       "      <th>10</th>\n",
       "      <td>SZA</td>\n",
       "      <td>SOS</td>\n",
       "      <td>Indie</td>\n",
       "      <td>0.462806</td>\n",
       "      <td>0.582546</td>\n",
       "      <td>0.411559</td>\n",
       "      <td>7.737478e+05</td>\n",
       "      <td>1242.31</td>\n",
       "    </tr>\n",
       "  </tbody>\n",
       "</table>\n",
       "</div>"
      ],
      "text/plain": [
       "     artist_name               album_name genre_original  avg_danceability  \\\n",
       "13           BTS                    Proof          k-pop          0.681488   \n",
       "9      BLACKPINK                BORN PINK            pop          0.741923   \n",
       "8       Dua Lipa         Future Nostalgia          dance          0.743601   \n",
       "0   Taylor Swift  1989 (Taylor's Version)          K-pop          0.585298   \n",
       "10           SZA                      SOS          Indie          0.462806   \n",
       "\n",
       "    avg_energy  avg_valence  avg_daily_streams  total_streams  \n",
       "13    0.679631     0.611396       5.817242e+05        3052.97  \n",
       "9     0.723691     0.405583       6.813381e+05        3624.36  \n",
       "8     0.748843     0.653112       1.040174e+06        4310.86  \n",
       "0     0.623716     0.427222       1.198106e+06        3695.53  \n",
       "10    0.582546     0.411559       7.737478e+05        1242.31  "
      ]
     },
     "metadata": {},
     "output_type": "display_data"
    }
   ],
   "source": [
    "# 4) Probar recomendación por artista y álbum\n",
    "album = \"After Hours\"\n",
    "artist = \"The Weeknd\"\n",
    "print(f\"\\nRecomendaciones para «{album}» de {artist}:\")\n",
    "display(rec.recommend_songs(album, artist, n_recommendations=5))\n"
   ]
  },
  {
   "cell_type": "code",
   "execution_count": 6,
   "id": "ffd1400a",
   "metadata": {},
   "outputs": [
    {
     "name": "stdout",
     "output_type": "stream",
     "text": [
      "\n",
      "Top 5 álbumes en género «k-pop»:\n"
     ]
    },
    {
     "data": {
      "text/html": [
       "<div>\n",
       "<style scoped>\n",
       "    .dataframe tbody tr th:only-of-type {\n",
       "        vertical-align: middle;\n",
       "    }\n",
       "\n",
       "    .dataframe tbody tr th {\n",
       "        vertical-align: top;\n",
       "    }\n",
       "\n",
       "    .dataframe thead th {\n",
       "        text-align: right;\n",
       "    }\n",
       "</style>\n",
       "<table border=\"1\" class=\"dataframe\">\n",
       "  <thead>\n",
       "    <tr style=\"text-align: right;\">\n",
       "      <th></th>\n",
       "      <th>artist_name</th>\n",
       "      <th>album_name</th>\n",
       "      <th>genre_original</th>\n",
       "      <th>total_streams</th>\n",
       "    </tr>\n",
       "  </thead>\n",
       "  <tbody>\n",
       "    <tr>\n",
       "      <th>0</th>\n",
       "      <td>Taylor Swift</td>\n",
       "      <td>1989 (Taylor's Version)</td>\n",
       "      <td>K-pop</td>\n",
       "      <td>3695.53</td>\n",
       "    </tr>\n",
       "    <tr>\n",
       "      <th>13</th>\n",
       "      <td>BTS</td>\n",
       "      <td>Proof</td>\n",
       "      <td>k-pop</td>\n",
       "      <td>3052.97</td>\n",
       "    </tr>\n",
       "    <tr>\n",
       "      <th>3</th>\n",
       "      <td>Ed Sheeran</td>\n",
       "      <td>Autumn Variations</td>\n",
       "      <td>K-pop</td>\n",
       "      <td>2704.33</td>\n",
       "    </tr>\n",
       "    <tr>\n",
       "      <th>12</th>\n",
       "      <td>Olivia Rodrigo</td>\n",
       "      <td>Guts</td>\n",
       "      <td>K-pop</td>\n",
       "      <td>1431.67</td>\n",
       "    </tr>\n",
       "  </tbody>\n",
       "</table>\n",
       "</div>"
      ],
      "text/plain": [
       "       artist_name               album_name genre_original  total_streams\n",
       "0     Taylor Swift  1989 (Taylor's Version)          K-pop        3695.53\n",
       "13             BTS                    Proof          k-pop        3052.97\n",
       "3       Ed Sheeran        Autumn Variations          K-pop        2704.33\n",
       "12  Olivia Rodrigo                     Guts          K-pop        1431.67"
      ]
     },
     "metadata": {},
     "output_type": "display_data"
    }
   ],
   "source": [
    "# 5) Probar recomendación por género\n",
    "genre = \"k-pop\"\n",
    "print(f\"\\nTop 5 álbumes en género «{genre}»:\")\n",
    "display(rec.recommend_by_genre(genre, n=5))\n"
   ]
  }
 ],
 "metadata": {
  "kernelspec": {
   "display_name": ".venv",
   "language": "python",
   "name": "python3"
  },
  "language_info": {
   "codemirror_mode": {
    "name": "ipython",
    "version": 3
   },
   "file_extension": ".py",
   "mimetype": "text/x-python",
   "name": "python",
   "nbconvert_exporter": "python",
   "pygments_lexer": "ipython3",
   "version": "3.11.11"
  }
 },
 "nbformat": 4,
 "nbformat_minor": 5
}
